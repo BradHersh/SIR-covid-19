{
 "cells": [
  {
   "cell_type": "markdown",
   "metadata": {},
   "source": [
    "# Libraries"
   ]
  },
  {
   "cell_type": "code",
   "execution_count": 1,
   "metadata": {},
   "outputs": [],
   "source": [
    "import os\n",
    "import pandas as pd\n",
    "import numpy as np\n",
    "import time\n",
    "import random\n",
    "# import gc\n",
    "# import pyarrow as pa\n",
    "# import pyarrow.parquet as pq\n",
    "# import pickle\n",
    "# import sys\n",
    "import warnings\n",
    "import matplotlib.pyplot as plt\n",
    "from scipy.integrate import odeint\n",
    "from scipy import integrate \n",
    "import scipy\n",
    "import math\n",
    "# import seaborn as sns\n",
    "# import statistics\n",
    "# import robustats\n",
    "# import pgeocode\n",
    "# import folium\n",
    "# from folium import plugins\n",
    "# from itertools import repeat\n",
    "# from sklearn import preprocessing\n",
    "import functools\n",
    "\n",
    "warnings.filterwarnings(\"ignore\")"
   ]
  },
  {
   "cell_type": "markdown",
   "metadata": {},
   "source": [
    "# Functions"
   ]
  },
  {
   "cell_type": "code",
   "execution_count": 2,
   "metadata": {},
   "outputs": [],
   "source": [
    "def u(t,power):\n",
    "    if (t >= T) or (t < L):\n",
    "        return 1\n",
    "    else:\n",
    "        return (t/T)**power"
   ]
  },
  {
   "cell_type": "code",
   "execution_count": 3,
   "metadata": {},
   "outputs": [],
   "source": [
    "def derivs(initial_state, t, N, contact_rate, recovery_rate, reinfection_rate,power):\n",
    "    S, I, R = initial_state\n",
    "    dSdt = u(t,power) * (-contact_rate * I * S)  + (R * reinfection_rate)\n",
    "    dIdt = u(t,power) * (contact_rate * I * S) - (recovery_rate * I)\n",
    "    dRdt = u(t,power) * (recovery_rate * I) - (R * reinfection_rate)\n",
    "\n",
    "    return(dSdt,dIdt,dRdt)\n",
    "\n",
    "def plot(power):\n",
    "    # Integrate the SIR equations over the time grid, t.\n",
    "    solution = odeint(derivs, initial_state, t, args=(N, contact_rate, recovery_rate, reinfection_rate,power))\n",
    "\n",
    "    plt.figure(figsize=(12,5))\n",
    "    plt.plot(t, solution[:, 0], 'b', label='S(t)')\n",
    "    plt.plot(t, solution[:, 1], 'r', label='I(t)')\n",
    "    plt.plot(t, solution[:, 2], 'g', label='R(t)')\n",
    "    plt.legend(loc='best',prop={'size': 15})\n",
    "    plt.xlabel('months')\n",
    "    plt.ylabel('proportion of population')\n",
    "    plt.grid()\n",
    "    plt.show()\n",
    "    \n",
    "    print(\"u(t) = (t/T)**\"+str(power))\n",
    "    print(\"The max of I(t) is \\033[1m\"+str(round(max(solution[:, 1]),3))+\"\\033[0m on day\", \n",
    "          solution[:, 1].tolist().index(max(solution[:, 1])))\n",
    "    \n",
    "    ys = solution[:, 1]\n",
    "    xs = np.array(t)\n",
    "    print(\"Area under I(t) is \\033[1m\"+str(round(scipy.integrate.simps(ys,xs),3))+\" \\033[0munits sq\")\n",
    "    \n",
    "def optimize(power):\n",
    "    solution = odeint(derivs, initial_state, t, args=(N, contact_rate, recovery_rate, reinfection_rate,power))\n",
    "    ys = solution[:, 1]\n",
    "    xs = np.array(t)\n",
    "    return(max(solution[:, 1]),scipy.integrate.simps(ys,xs))\n",
    "\n",
    "def cycle(start,end,step):\n",
    "    \n",
    "    powers=np.arange(start,end,step)\n",
    "    big_list = []\n",
    "    for power in powers:\n",
    "        l = []\n",
    "        l.append(power)\n",
    "        l.append(optimize(power)[0])\n",
    "        l.append(optimize(power)[1])\n",
    "        big_list.append(l)\n",
    "    big_list\n",
    "\n",
    "    return pd.DataFrame(columns=['(t/T)**power','Peak','Area'],data=[i for i in big_list])\n"
   ]
  },
  {
   "cell_type": "markdown",
   "metadata": {},
   "source": [
    "# Parameters"
   ]
  },
  {
   "cell_type": "code",
   "execution_count": 4,
   "metadata": {},
   "outputs": [],
   "source": [
    "r0 = 3.28# rate of reproduction\n",
    "recovery_rate = 1 # the proportion of infected recovering per day \n",
    "contact_rate = r0 * recovery_rate # expected amount of people an infected person infects per day\n",
    "reinfection_rate = 0.14\n",
    "\n",
    "L = 1 # day when we start full lockdown\n",
    "T = 7 # day when we completely lift lockdown\n",
    "\n",
    "N = 25518568 #population of AUS\n",
    "S0 = 25518000/N #initial susceptible \n",
    "I0 = 568/N #initial infected\n",
    "R0 = 1 - S0 - I0 #initial recovered\n",
    "\n",
    "initial_state = S0, I0, R0\n",
    "t=np.arange(0,24) #time grid\n",
    "months = t.size"
   ]
  },
  {
   "cell_type": "markdown",
   "metadata": {},
   "source": [
    "# Modelling and Plotting"
   ]
  },
  {
   "cell_type": "code",
   "execution_count": 5,
   "metadata": {},
   "outputs": [],
   "source": [
    "result = cycle(start=0, end=5, step=0.01)"
   ]
  },
  {
   "cell_type": "code",
   "execution_count": 6,
   "metadata": {
    "scrolled": true
   },
   "outputs": [
    {
     "data": {
      "text/html": [
       "<div>\n",
       "<style scoped>\n",
       "    .dataframe tbody tr th:only-of-type {\n",
       "        vertical-align: middle;\n",
       "    }\n",
       "\n",
       "    .dataframe tbody tr th {\n",
       "        vertical-align: top;\n",
       "    }\n",
       "\n",
       "    .dataframe thead th {\n",
       "        text-align: right;\n",
       "    }\n",
       "</style>\n",
       "<table border=\"1\" class=\"dataframe\">\n",
       "  <thead>\n",
       "    <tr style=\"text-align: right;\">\n",
       "      <th></th>\n",
       "      <th>(t/T)**power</th>\n",
       "      <th>Peak</th>\n",
       "      <th>Area</th>\n",
       "    </tr>\n",
       "  </thead>\n",
       "  <tbody>\n",
       "    <tr>\n",
       "      <td>0</td>\n",
       "      <td>0.25</td>\n",
       "      <td>0.295561</td>\n",
       "      <td>2.044890</td>\n",
       "    </tr>\n",
       "    <tr>\n",
       "      <td>1</td>\n",
       "      <td>0.26</td>\n",
       "      <td>0.296919</td>\n",
       "      <td>2.041491</td>\n",
       "    </tr>\n",
       "    <tr>\n",
       "      <td>2</td>\n",
       "      <td>0.49</td>\n",
       "      <td>0.300709</td>\n",
       "      <td>1.982452</td>\n",
       "    </tr>\n",
       "    <tr>\n",
       "      <td>3</td>\n",
       "      <td>0.50</td>\n",
       "      <td>0.300855</td>\n",
       "      <td>1.980266</td>\n",
       "    </tr>\n",
       "    <tr>\n",
       "      <td>4</td>\n",
       "      <td>0.27</td>\n",
       "      <td>0.301313</td>\n",
       "      <td>2.038180</td>\n",
       "    </tr>\n",
       "  </tbody>\n",
       "</table>\n",
       "</div>"
      ],
      "text/plain": [
       "   (t/T)**power      Peak      Area\n",
       "0          0.25  0.295561  2.044890\n",
       "1          0.26  0.296919  2.041491\n",
       "2          0.49  0.300709  1.982452\n",
       "3          0.50  0.300855  1.980266\n",
       "4          0.27  0.301313  2.038180"
      ]
     },
     "execution_count": 6,
     "metadata": {},
     "output_type": "execute_result"
    }
   ],
   "source": [
    "pd.set_option(\"display.max_rows\",10)\n",
    "result = result.sort_values(['Peak'],ascending=True).reset_index(drop=True)\n",
    "best = result.at[0,'(t/T)**power']\n",
    "result.head()"
   ]
  },
  {
   "cell_type": "code",
   "execution_count": 7,
   "metadata": {
    "scrolled": false
   },
   "outputs": [
    {
     "data": {
      "image/png": "[encoded data removed]",
      "text/plain": [
       "<Figure size 864x360 with 1 Axes>"
      ]
     },
     "metadata": {
      "needs_background": "light"
     },
     "output_type": "display_data"
    },
    {
     "name": "stdout",
     "output_type": "stream",
     "text": [
      "u(t) = (t/T)**0.6\n",
      "The max of I(t) is \u001b[1m0.332\u001b[0m on day 8\n",
      "Area under I(t) is \u001b[1m1.958 \u001b[0munits sq\n"
     ]
    }
   ],
   "source": [
    "plot(0.60)"
   ]
  },
  {
   "cell_type": "markdown",
   "metadata": {},
   "source": [
    "# Simulated Annealing"
   ]
  },
  {
   "cell_type": "code",
   "execution_count": 32,
   "metadata": {},
   "outputs": [],
   "source": [
    "def derivs2(initial_state, t, N, contact_rate, recovery_rate, reinfection_rate,x):\n",
    "    S, I, R = initial_state\n",
    "    dSdt = u_annealing(t,x) * (-contact_rate * I * S)  + (R * reinfection_rate)\n",
    "    dIdt = u_annealing(t,x) * (contact_rate * I * S) - (recovery_rate * I)\n",
    "    dRdt = u_annealing(t,x) * (recovery_rate * I) - (R * reinfection_rate)\n",
    "\n",
    "    return(dSdt,dIdt,dRdt)\n",
    "\n",
    "def peak(X):\n",
    "    solution = odeint(derivs2, initial_state, t, args=(N, contact_rate, recovery_rate, reinfection_rate,X))\n",
    "    return max(solution[:, 1])\n",
    "\n",
    "def u_annealing(t,x):\n",
    "    return x[int(t)]\n",
    "\n",
    "# def area(X):\n",
    "#     solution = odeint(derivs, initial_state, t, args=(N, contact_rate, recovery_rate, reinfection_rate))\n",
    "#     ys = solution[:, 1]\n",
    "#     xs = np.array(t)\n",
    "#     return(scipy.integrate.simps(ys,xs))\n",
    " \n",
    "def random_neighbour(X, fraction=1):\n",
    "    interval = (0, 1)\n",
    "    amplitude = (max(interval) - min(interval)) * fraction / 10\n",
    "\n",
    "    for i in range(months):\n",
    "        delta = (-amplitude/2.) + amplitude * np.random.random_sample()\n",
    "        X[i] +=  delta\n",
    "        if X[i] <0:\n",
    "            X[i] = 0.01\n",
    "        if X[i] >1:\n",
    "            X[i] = 1\n",
    "    \n",
    "    for i in range(0,L):\n",
    "        X[i] = 1\n",
    "    for i in range(T,months):\n",
    "        X[i] = 1\n",
    "        \n",
    "    return (X)\n",
    "    \n",
    "def annealing(search_space,func,T,n):\n",
    "    t = T\n",
    "    x=search_space\n",
    "    E = func(x)\n",
    "    history=[x]    \n",
    "    for i in range(n):\n",
    "        new = random_neighbour(x)\n",
    "        if func(new) - E < 0 or math.e**(-(func(new) - E)/t) > random.uniform(0, 1):\n",
    "            x = new\n",
    "            E = func(x)\n",
    "        history.append(x)\n",
    "        t = t * 0.9\n",
    "        \n",
    "    ###plotting###\n",
    "#     xs = np.array(history)\n",
    "#     ys = []\n",
    "#     x2 = []\n",
    "#     count = 0\n",
    "#     for i in xs:\n",
    "#         count+=1\n",
    "#         x2.append(count)\n",
    "#         ys.append(peak(i))\n",
    "#     ys = np.array(ys)\n",
    "#     plt.plot(xs,ys)\n",
    "    \n",
    "    print(\"Smallest peak =\",func(x),'for array:',x)\n",
    "    return (x)"
   ]
  },
  {
   "cell_type": "code",
   "execution_count": 33,
   "metadata": {},
   "outputs": [],
   "source": [
    "t=np.arange(0,24) #time grid"
   ]
  },
  {
   "cell_type": "code",
   "execution_count": 34,
   "metadata": {
    "scrolled": true
   },
   "outputs": [
    {
     "data": {
      "text/plain": [
       "array([1.        , 0.04347826, 0.08695652, 0.13043478, 0.17391304,\n",
       "       0.2173913 , 0.26086957, 1.        , 1.        , 1.        ,\n",
       "       1.        , 1.        , 1.        , 1.        , 1.        ,\n",
       "       1.        , 1.        , 1.        , 1.        , 1.        ,\n",
       "       1.        , 1.        , 1.        , 1.        ])"
      ]
     },
     "execution_count": 34,
     "metadata": {},
     "output_type": "execute_result"
    }
   ],
   "source": [
    "X = np.linspace(0,1,granularity)\n",
    "for i in range(X.size):\n",
    "    if i < L or i >= T:\n",
    "        X[i] = 1\n",
    "X"
   ]
  },
  {
   "cell_type": "code",
   "execution_count": 35,
   "metadata": {},
   "outputs": [
    {
     "name": "stdout",
     "output_type": "stream",
     "text": [
      "Smallest peak = 0.31153070043174336 for array: [1.         0.62440646 0.7293121  0.09322055 0.97876788 0.74867925\n",
      " 0.74417878 1.         1.         1.         1.         1.\n",
      " 1.         1.         1.         1.         1.         1.\n",
      " 1.         1.         1.         1.         1.         1.        ]\n"
     ]
    }
   ],
   "source": [
    "r = annealing(X,peak,1,1000)"
   ]
  },
  {
   "cell_type": "code",
   "execution_count": 36,
   "metadata": {},
   "outputs": [
    {
     "data": {
      "text/plain": [
       "[<matplotlib.lines.Line2D at 0x151d39e790>]"
      ]
     },
     "execution_count": 36,
     "metadata": {},
     "output_type": "execute_result"
    },
    {
     "data": {
      "image/png": "[encoded data removed]",
      "text/plain": [
       "<Figure size 432x288 with 1 Axes>"
      ]
     },
     "metadata": {
      "needs_background": "light"
     },
     "output_type": "display_data"
    }
   ],
   "source": [
    "plt.plot(t,r)"
   ]
  }
 ],
 "metadata": {
  "kernelspec": {
   "display_name": "Python 3",
   "language": "python",
   "name": "python3"
  },
  "language_info": {
   "codemirror_mode": {
    "name": "ipython",
    "version": 3
   },
   "file_extension": ".py",
   "mimetype": "text/x-python",
   "name": "python",
   "nbconvert_exporter": "python",
   "pygments_lexer": "ipython3",
   "version": "3.7.4"
  }
 },
 "nbformat": 4,
 "nbformat_minor": 2
}
